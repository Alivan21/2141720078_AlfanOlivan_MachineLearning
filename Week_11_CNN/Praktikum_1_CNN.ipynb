{
  "cells": [
    {
      "cell_type": "markdown",
      "metadata": {
        "id": "-KhQyMCR4TSJ"
      },
      "source": [
        "# **Praktikum 11 - Convolutional Neural Netword (CNN)**"
      ]
    },
    {
      "cell_type": "markdown",
      "metadata": {
        "id": "mFoj1gXX4i6A"
      },
      "source": [
        "Nama : Alfan Olivan\n",
        "\n",
        "NIM : 2141720078"
      ]
    },
    {
      "cell_type": "markdown",
      "metadata": {
        "id": "s7RV64VF4kIG"
      },
      "source": [
        "## **Praktikum 1**"
      ]
    },
    {
      "cell_type": "markdown",
      "metadata": {
        "id": "ZoVW6sqS4rEm"
      },
      "source": [
        "1. Import Library"
      ]
    },
    {
      "cell_type": "code",
      "execution_count": null,
      "metadata": {
        "id": "Mydug1Dk3woT"
      },
      "outputs": [],
      "source": [
        "import tensorflow as tf\n",
        "from keras.preprocessing.image import ImageDataGenerator"
      ]
    },
    {
      "cell_type": "markdown",
      "metadata": {
        "id": "d2YJc3xs46ik"
      },
      "source": [
        "2. Pra Pengolahan Data"
      ]
    },
    {
      "cell_type": "code",
      "execution_count": null,
      "metadata": {
        "colab": {
          "base_uri": "https://localhost:8080/"
        },
        "id": "3UnqLEg348wu",
        "outputId": "550e09fc-042f-46d9-fbed-f3ac9d085e65"
      },
      "outputs": [
        {
          "output_type": "stream",
          "name": "stdout",
          "text": [
            "Found 8000 images belonging to 2 classes.\n"
          ]
        }
      ],
      "source": [
        "train_datagen = ImageDataGenerator(rescale = 1./255,\n",
        "                                   shear_range = 0.2,\n",
        "                                   zoom_range = 0.2,\n",
        "                                   horizontal_flip = True)\n",
        "training_set = train_datagen.flow_from_directory('/content/drive/MyDrive/Machine_Learning/CNN/dataset/training_set',\n",
        "                                                 target_size = (64, 64),\n",
        "                                                 batch_size = 32,\n",
        "                                                 class_mode = 'binary')"
      ]
    },
    {
      "cell_type": "code",
      "execution_count": null,
      "metadata": {
        "colab": {
          "base_uri": "https://localhost:8080/"
        },
        "id": "YTOh-NK85Q4X",
        "outputId": "e578393f-46e8-4f15-de8b-c234f964dc24"
      },
      "outputs": [
        {
          "output_type": "stream",
          "name": "stdout",
          "text": [
            "Found 2000 images belonging to 2 classes.\n"
          ]
        }
      ],
      "source": [
        "test_datagen = ImageDataGenerator(rescale = 1./255)\n",
        "test_set = test_datagen.flow_from_directory('/content/drive/MyDrive/Machine_Learning/CNN/dataset/test_set',\n",
        "                                            target_size = (64, 64),\n",
        "                                            batch_size = 32,\n",
        "                                            class_mode = 'binary')"
      ]
    },
    {
      "cell_type": "markdown",
      "metadata": {
        "id": "8NgYnbID5Wu1"
      },
      "source": [
        "3. Pembuatan Model CNN"
      ]
    },
    {
      "cell_type": "code",
      "execution_count": null,
      "metadata": {
        "id": "zQPogZdM5Z2i"
      },
      "outputs": [],
      "source": [
        "cnn = tf.keras.models.Sequential()"
      ]
    },
    {
      "cell_type": "code",
      "execution_count": null,
      "metadata": {
        "id": "UFOGZ_1O5ckr"
      },
      "outputs": [],
      "source": [
        "# Layer 1 Konvolusi\n",
        "cnn.add(tf.keras.layers.Conv2D(filters=32, kernel_size=3, activation='relu', input_shape=[64, 64, 3]))"
      ]
    },
    {
      "cell_type": "code",
      "execution_count": null,
      "metadata": {
        "id": "jS7ZBM_D5g5D"
      },
      "outputs": [],
      "source": [
        "# Layer 1 Pooling\n",
        "cnn.add(tf.keras.layers.MaxPool2D(pool_size=2, strides=2))"
      ]
    },
    {
      "cell_type": "code",
      "execution_count": null,
      "metadata": {
        "id": "zZdcT3Tv5nAj"
      },
      "outputs": [],
      "source": [
        "# Layer 2 Konvolusi & Pooling\n",
        "cnn.add(tf.keras.layers.Conv2D(filters=32, kernel_size=3, activation='relu'))\n",
        "cnn.add(tf.keras.layers.MaxPool2D(pool_size=2, strides=2))"
      ]
    },
    {
      "cell_type": "code",
      "execution_count": null,
      "metadata": {
        "id": "HxU45Jje5qAz"
      },
      "outputs": [],
      "source": [
        "# Flatterning\n",
        "cnn.add(tf.keras.layers.Flatten())"
      ]
    },
    {
      "cell_type": "code",
      "execution_count": null,
      "metadata": {
        "id": "CThRBTW96Cdk"
      },
      "outputs": [],
      "source": [
        "# Fully Connected Layer 1 (Input)\n",
        "cnn.add(tf.keras.layers.Dense(units=128, activation='relu'))"
      ]
    },
    {
      "cell_type": "code",
      "execution_count": null,
      "metadata": {
        "id": "zHdU0oB86IZz"
      },
      "outputs": [],
      "source": [
        "# Fully Connected Layer 2 (Output)\n",
        "cnn.add(tf.keras.layers.Dense(units=1, activation='sigmoid'))"
      ]
    },
    {
      "cell_type": "code",
      "execution_count": null,
      "metadata": {
        "id": "XgQ24l566Lk0"
      },
      "outputs": [],
      "source": [
        "# Compile Model CNN\n",
        "cnn.compile(optimizer = 'adam', loss = 'binary_crossentropy', metrics = ['accuracy'])"
      ]
    },
    {
      "cell_type": "markdown",
      "metadata": {
        "id": "JJxduaux6PRL"
      },
      "source": [
        "4. Fit Model CNN"
      ]
    },
    {
      "cell_type": "code",
      "execution_count": null,
      "metadata": {
        "colab": {
          "base_uri": "https://localhost:8080/"
        },
        "id": "9vE_Cc7l6QsS",
        "outputId": "9dfc6d1a-ef28-4b7a-e9ba-fac0cd7711b7"
      },
      "outputs": [
        {
          "output_type": "stream",
          "name": "stdout",
          "text": [
            "Epoch 1/25\n",
            "250/250 [==============================] - 721s 3s/step - loss: 0.6791 - accuracy: 0.5669 - val_loss: 0.6447 - val_accuracy: 0.6360\n",
            "Epoch 2/25\n",
            "250/250 [==============================] - 37s 150ms/step - loss: 0.6274 - accuracy: 0.6478 - val_loss: 0.6430 - val_accuracy: 0.6620\n",
            "Epoch 3/25\n",
            "250/250 [==============================] - 37s 149ms/step - loss: 0.5660 - accuracy: 0.7042 - val_loss: 0.5651 - val_accuracy: 0.7155\n",
            "Epoch 4/25\n",
            "250/250 [==============================] - 37s 148ms/step - loss: 0.5294 - accuracy: 0.7339 - val_loss: 0.5070 - val_accuracy: 0.7565\n",
            "Epoch 5/25\n",
            "250/250 [==============================] - 43s 171ms/step - loss: 0.5068 - accuracy: 0.7474 - val_loss: 0.5036 - val_accuracy: 0.7575\n",
            "Epoch 6/25\n",
            "250/250 [==============================] - 37s 149ms/step - loss: 0.4979 - accuracy: 0.7551 - val_loss: 0.5088 - val_accuracy: 0.7490\n",
            "Epoch 7/25\n",
            "250/250 [==============================] - 37s 146ms/step - loss: 0.4867 - accuracy: 0.7585 - val_loss: 0.5241 - val_accuracy: 0.7565\n",
            "Epoch 8/25\n",
            "250/250 [==============================] - 37s 147ms/step - loss: 0.4669 - accuracy: 0.7770 - val_loss: 0.5273 - val_accuracy: 0.7435\n",
            "Epoch 9/25\n",
            "250/250 [==============================] - 37s 146ms/step - loss: 0.4536 - accuracy: 0.7869 - val_loss: 0.5126 - val_accuracy: 0.7540\n",
            "Epoch 10/25\n",
            "250/250 [==============================] - 38s 154ms/step - loss: 0.4380 - accuracy: 0.7934 - val_loss: 0.5335 - val_accuracy: 0.7305\n",
            "Epoch 11/25\n",
            "250/250 [==============================] - 36s 145ms/step - loss: 0.4314 - accuracy: 0.7984 - val_loss: 0.5028 - val_accuracy: 0.7520\n",
            "Epoch 12/25\n",
            "250/250 [==============================] - 36s 144ms/step - loss: 0.4186 - accuracy: 0.8045 - val_loss: 0.4807 - val_accuracy: 0.7850\n",
            "Epoch 13/25\n",
            "250/250 [==============================] - 37s 146ms/step - loss: 0.4086 - accuracy: 0.8085 - val_loss: 0.5087 - val_accuracy: 0.7640\n",
            "Epoch 14/25\n",
            "250/250 [==============================] - 37s 147ms/step - loss: 0.3901 - accuracy: 0.8211 - val_loss: 0.4709 - val_accuracy: 0.7905\n",
            "Epoch 15/25\n",
            "250/250 [==============================] - 36s 146ms/step - loss: 0.3764 - accuracy: 0.8280 - val_loss: 0.4875 - val_accuracy: 0.7940\n",
            "Epoch 16/25\n",
            "250/250 [==============================] - 39s 157ms/step - loss: 0.3702 - accuracy: 0.8284 - val_loss: 0.4752 - val_accuracy: 0.7875\n",
            "Epoch 17/25\n",
            "250/250 [==============================] - 37s 148ms/step - loss: 0.3513 - accuracy: 0.8435 - val_loss: 0.5216 - val_accuracy: 0.7955\n",
            "Epoch 18/25\n",
            "250/250 [==============================] - 36s 145ms/step - loss: 0.3346 - accuracy: 0.8520 - val_loss: 0.5082 - val_accuracy: 0.7870\n",
            "Epoch 19/25\n",
            "250/250 [==============================] - 36s 144ms/step - loss: 0.3168 - accuracy: 0.8631 - val_loss: 0.5417 - val_accuracy: 0.7690\n",
            "Epoch 20/25\n",
            "250/250 [==============================] - 36s 143ms/step - loss: 0.3049 - accuracy: 0.8631 - val_loss: 0.4957 - val_accuracy: 0.7920\n",
            "Epoch 21/25\n",
            "250/250 [==============================] - 43s 171ms/step - loss: 0.2965 - accuracy: 0.8729 - val_loss: 0.5169 - val_accuracy: 0.7875\n",
            "Epoch 22/25\n",
            "250/250 [==============================] - 36s 144ms/step - loss: 0.2713 - accuracy: 0.8825 - val_loss: 0.6119 - val_accuracy: 0.7680\n",
            "Epoch 23/25\n",
            "250/250 [==============================] - 37s 147ms/step - loss: 0.2780 - accuracy: 0.8813 - val_loss: 0.5105 - val_accuracy: 0.7985\n",
            "Epoch 24/25\n",
            "250/250 [==============================] - 42s 168ms/step - loss: 0.2483 - accuracy: 0.8944 - val_loss: 0.5571 - val_accuracy: 0.7795\n",
            "Epoch 25/25\n",
            "250/250 [==============================] - 37s 148ms/step - loss: 0.2348 - accuracy: 0.8978 - val_loss: 0.6014 - val_accuracy: 0.7805\n"
          ]
        },
        {
          "output_type": "execute_result",
          "data": {
            "text/plain": [
              "<keras.src.callbacks.History at 0x78a11fffeef0>"
            ]
          },
          "metadata": {},
          "execution_count": 25
        }
      ],
      "source": [
        "cnn.fit(x = training_set, validation_data = test_set, epochs = 25)"
      ]
    },
    {
      "cell_type": "markdown",
      "source": [
        "5. Prediksi Dengan 1 Citra"
      ],
      "metadata": {
        "id": "0PruB5RRJCdA"
      }
    },
    {
      "cell_type": "code",
      "source": [
        "import numpy as np\n",
        "from keras.preprocessing import image\n",
        "\n",
        "test_image = image.load_img('/content/drive/MyDrive/Machine_Learning/CNN/dataset/single_prediction/cat_or_dog_1.jpg', target_size = (64, 64))\n",
        "test_image = image.img_to_array(test_image)\n",
        "test_image = np.expand_dims(test_image, axis = 0)\n",
        "result = cnn.predict(test_image)\n",
        "training_set.class_indices\n",
        "if result[0][0] == 1:\n",
        "  prediction = 'dog'\n",
        "else:\n",
        "  prediction = 'cat'\n",
        "\n",
        "print(\"\\nPrediction: \" + prediction)"
      ],
      "metadata": {
        "colab": {
          "base_uri": "https://localhost:8080/"
        },
        "id": "30rWC5DgJFR-",
        "outputId": "d4a94f33-2992-4e54-f4ce-b021f879b5c8"
      },
      "execution_count": null,
      "outputs": [
        {
          "output_type": "stream",
          "name": "stdout",
          "text": [
            "1/1 [==============================] - 0s 20ms/step\n",
            "\n",
            "Prediction: dog\n"
          ]
        }
      ]
    }
  ],
  "metadata": {
    "accelerator": "GPU",
    "colab": {
      "provenance": [],
      "gpuType": "T4"
    },
    "kernelspec": {
      "display_name": "Python 3",
      "name": "python3"
    },
    "language_info": {
      "name": "python"
    }
  },
  "nbformat": 4,
  "nbformat_minor": 0
}